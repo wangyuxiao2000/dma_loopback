{
 "cells": [
  {
   "cell_type": "code",
   "execution_count": null,
   "id": "51a44769",
   "metadata": {},
   "outputs": [],
   "source": [
    "import time\n",
    "import os\n",
    "import numpy as np\n",
    "from pynq import allocate\n",
    "from pynq import MMIO\n",
    "from pynq import Overlay"
   ]
  },
  {
   "cell_type": "code",
   "execution_count": null,
   "id": "e6e7d93b",
   "metadata": {},
   "outputs": [],
   "source": [
    "os.getcwd()\n",
    "ol = Overlay(\"dma_loopback.bit\")"
   ]
  },
  {
   "cell_type": "code",
   "execution_count": null,
   "id": "96b8ba6c",
   "metadata": {},
   "outputs": [],
   "source": [
    "# base addr\n",
    "DMA_GRABBER = 0x40000000\n",
    "AXI_GPIO    = 0x41200000\n",
    "\n",
    "# GPIO\n",
    "dma_garbber_en     = 0x10\n",
    "dma_garbber_size   = 0x18\n",
    "fifo_remain_data   = 0x0000\n",
    "grabber_pass_data  = 0x0008"
   ]
  },
  {
   "cell_type": "code",
   "execution_count": null,
   "id": "1cbc92c6",
   "metadata": {},
   "outputs": [],
   "source": [
    "# 写寄存器\n",
    "def write_reg(base_addr, offset, val):\n",
    "    mmio = MMIO(base_addr, 64*1024)   # 创建一个名为mimo的MMIO对象,可用地址空间为64KB(与VIVADO设计中的地址分配相吻合)\n",
    "    mmio.write(offset, val)           # 向地址为base_addr+offset的寄存器写入val\n",
    "\n",
    "\n",
    "# 读寄存器\n",
    "def read_reg(base_addr, offset):  \n",
    "    mmio = MMIO(base_addr, 64*1024)\n",
    "    read_val = mmio.read(offset)\n",
    "    return read_val\n",
    "\n",
    "\n",
    "# 写DMA\n",
    "def dma_write(data):\n",
    "    dma = ol.axi_dma_0\n",
    "    data_in = allocate(shape=(len(data),), dtype=np.uint32)\n",
    "    np.copyto(data_in, data)\n",
    "    dma.sendchannel.transfer(data_in)\n",
    "    dma.sendchannel.wait()\n",
    "    data_in.close()\n",
    "\n",
    "\n",
    "# 读DMA(size=0时,读出当前DMA中的全部数据)\n",
    "def dma_read(size):\n",
    "    dma = ol.axi_dma_0\n",
    "    available_num = read_reg(AXI_GPIO, fifo_remain_data) + 2 # FIFO中的有效数据量\n",
    "    target_size = available_num if size == 0 else size       # 本次DMA读取的目标数据量\n",
    "    input_buffer = allocate(target_size, dtype=np.uint32)\n",
    "    dma.recvchannel.transfer(input_buffer)\n",
    "    write_reg(DMA_GRABBER,dma_garbber_en,0)\n",
    "    write_reg(DMA_GRABBER,dma_garbber_size,target_size)\n",
    "    write_reg(DMA_GRABBER,dma_garbber_en,1)\n",
    "    dma.recvchannel.wait()\n",
    "    data = input_buffer.copy()\n",
    "    input_buffer.freebuffer()\n",
    "    real_num = read_reg(AXI_GPIO, grabber_pass_data) # 本次DMA读取的实际数据量\n",
    "    data = data[:real_num]\n",
    "    if available_num > 2 :\n",
    "        print(f\"{real_num} data are read this time, and {available_num-real_num} data remain in the FIFO.\")\n",
    "    else :\n",
    "        if real_num==0 or real_num==2  :\n",
    "           print(f\"{real_num} data are read this time, and 0 data remain in the FIFO.\")\n",
    "        else :\n",
    "            if real_num < target_size :\n",
    "                print(f\"{real_num} data are read this time, and 0 data remain in the FIFO.\")\n",
    "            else :\n",
    "                print(f\"{real_num} data are read this time, and 0 or 1 data remain in the FIFO.\")\n",
    "    return(real_num,data)"
   ]
  },
  {
   "cell_type": "code",
   "execution_count": null,
   "id": "c0801366",
   "metadata": {},
   "outputs": [],
   "source": [
    "tx_data = np.arange(100, dtype=np.uint)\n",
    "dma_write(tx_data)"
   ]
  },
  {
   "cell_type": "code",
   "execution_count": null,
   "id": "cc10abed",
   "metadata": {},
   "outputs": [],
   "source": [
    "(rx_size, rx_data) = dma_read(0)\n",
    "print(rx_data)"
   ]
  }
 ],
 "metadata": {
  "kernelspec": {
   "display_name": "Python 3 (ipykernel)",
   "language": "python",
   "name": "python3"
  },
  "language_info": {
   "codemirror_mode": {
    "name": "ipython",
    "version": 3
   },
   "file_extension": ".py",
   "mimetype": "text/x-python",
   "name": "python",
   "nbconvert_exporter": "python",
   "pygments_lexer": "ipython3",
   "version": "3.10.4"
  }
 },
 "nbformat": 4,
 "nbformat_minor": 5
}
