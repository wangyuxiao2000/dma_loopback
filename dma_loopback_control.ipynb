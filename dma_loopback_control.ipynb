{
 "cells": [
  {
   "cell_type": "code",
   "execution_count": 1,
   "id": "51a44769",
   "metadata": {},
   "outputs": [],
   "source": [
    "import time\n",
    "import os\n",
    "import numpy as np\n",
    "from pynq import allocate\n",
    "from pynq import MMIO\n",
    "from pynq import Overlay"
   ]
  },
  {
   "cell_type": "code",
   "execution_count": 2,
   "id": "e6e7d93b",
   "metadata": {},
   "outputs": [
    {
     "data": {
      "application/javascript": [
       "\n",
       "try {\n",
       "require(['notebook/js/codecell'], function(codecell) {\n",
       "  codecell.CodeCell.options_default.highlight_modes[\n",
       "      'magic_text/x-csrc'] = {'reg':[/^%%microblaze/]};\n",
       "  Jupyter.notebook.events.one('kernel_ready.Kernel', function(){\n",
       "      Jupyter.notebook.get_cells().map(function(cell){\n",
       "          if (cell.cell_type == 'code'){ cell.auto_highlight(); } }) ;\n",
       "  });\n",
       "});\n",
       "} catch (e) {};\n"
      ]
     },
     "metadata": {},
     "output_type": "display_data"
    },
    {
     "data": {
      "application/javascript": [
       "\n",
       "try {\n",
       "require(['notebook/js/codecell'], function(codecell) {\n",
       "  codecell.CodeCell.options_default.highlight_modes[\n",
       "      'magic_text/x-csrc'] = {'reg':[/^%%pybind11/]};\n",
       "  Jupyter.notebook.events.one('kernel_ready.Kernel', function(){\n",
       "      Jupyter.notebook.get_cells().map(function(cell){\n",
       "          if (cell.cell_type == 'code'){ cell.auto_highlight(); } }) ;\n",
       "  });\n",
       "});\n",
       "} catch (e) {};\n"
      ]
     },
     "metadata": {},
     "output_type": "display_data"
    }
   ],
   "source": [
    "os.getcwd()\n",
    "ol = Overlay(\"dma_loopback.bit\")"
   ]
  },
  {
   "cell_type": "code",
   "execution_count": 3,
   "id": "96b8ba6c",
   "metadata": {},
   "outputs": [],
   "source": [
    "# base addr\n",
    "DMA_GRABBER = 0x40000000\n",
    "GPIO_FIFO   = 0x41200000\n",
    "\n",
    "# GPIO\n",
    "remain_data_num   = 0x10\n",
    "dma_garbber_en    = 0x10\n",
    "dma_garbber_size  = 0x18"
   ]
  },
  {
   "cell_type": "code",
   "execution_count": 4,
   "id": "1cbc92c6",
   "metadata": {},
   "outputs": [],
   "source": [
    "# 写寄存器\n",
    "def write_reg(base_addr, offset, val):\n",
    "    mmio = MMIO(base_addr, 64*1024)   # 创建一个名为mimo的MMIO对象,可用地址空间为64KB(与VIVADO设计中的地址分配相吻合)\n",
    "    mmio.write(offset, val)           # 向地址为base_addr+offset的寄存器写入val\n",
    "\n",
    "\n",
    "# 读寄存器\n",
    "def read_reg(base_addr, offset):  \n",
    "    mmio = MMIO(base_addr, 64*1024)\n",
    "    read_val = mmio.read(offset)\n",
    "    return read_val\n",
    "\n",
    "\n",
    "# 写DMA\n",
    "def dma_write(data):\n",
    "    dma = ol.axi_dma_0\n",
    "    data_in = allocate(shape=(len(data),), dtype=np.uint32)\n",
    "    np.copyto(data_in, data)\n",
    "    dma.sendchannel.transfer(data_in)\n",
    "    dma.sendchannel.wait()\n",
    "    data_in.close()\n",
    "    tot = read_reg(GPIO_FIFO, remain_data_num) + 4\n",
    "\n",
    "\n",
    "# 读DMA(read_size=0时,读出当前DMA中的全部数据)\n",
    "def dma_read(read_size):\n",
    "    dma = ol.axi_dma_0\n",
    "    tot = read_reg(GPIO_FIFO, remain_data_num) + 2\n",
    "    size = tot if read_size == 0 else min(read_size, tot)\n",
    "    input_buffer = allocate(size, dtype=np.uint32)\n",
    "    dma.recvchannel.transfer(input_buffer)\n",
    "    write_reg(DMA_GRABBER,dma_garbber_en,0)\n",
    "    write_reg(DMA_GRABBER,dma_garbber_size,size)\n",
    "    write_reg(DMA_GRABBER,dma_garbber_en,1)\n",
    "    dma.recvchannel.wait()\n",
    "    data = input_buffer.copy()\n",
    "    input_buffer.freebuffer()\n",
    "    print(f\"{size} data are read this time, and {tot-size} data remain in the FIFO.\")\n",
    "    return(size,data)"
   ]
  },
  {
   "cell_type": "code",
   "execution_count": 24,
   "id": "c0801366",
   "metadata": {},
   "outputs": [],
   "source": [
    "tx_data = np.arange(100, dtype=np.uint)\n",
    "dma_write(tx_data)"
   ]
  },
  {
   "cell_type": "code",
   "execution_count": null,
   "id": "834cccf0",
   "metadata": {},
   "outputs": [],
   "source": [
    "(rx_size, rx_data) = dma_read(0)\n",
    "print(rx_data)"
   ]
  }
 ],
 "metadata": {
  "kernelspec": {
   "display_name": "Python 3 (ipykernel)",
   "language": "python",
   "name": "python3"
  },
  "language_info": {
   "codemirror_mode": {
    "name": "ipython",
    "version": 3
   },
   "file_extension": ".py",
   "mimetype": "text/x-python",
   "name": "python",
   "nbconvert_exporter": "python",
   "pygments_lexer": "ipython3",
   "version": "3.10.4"
  }
 },
 "nbformat": 4,
 "nbformat_minor": 5
}
